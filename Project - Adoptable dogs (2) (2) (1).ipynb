{
 "cells": [
  {
   "cell_type": "markdown",
   "id": "58c71775-7ae1-48eb-92f3-b9a60cd94600",
   "metadata": {},
   "source": [
    "#  Final project:\n",
    "\n",
    "# Group 34\n",
    "\n",
    "# Adoptable - Dogs\n",
    "\n",
    "###  Name of students:\n",
    "Avishay musay<br>\n",
    "Or bismot<br>\n",
    "Lior bassel<br>\n"
   ]
  },
  {
   "cell_type": "markdown",
   "id": "0a91b546-96f3-49b4-a9c1-e76b8bc46401",
   "metadata": {
    "tags": []
   },
   "source": [
    "<a id='top'></a>\n",
    "\n",
    "<div>\n",
    "<img src=\"https://img.ice.co.il/giflib/news/rsPhoto/sz_342/rsz_615_346_WhatsApp%20Image%202022-09-12%20at%2010.54.21.jpeg?raw=true\" width=\"800\"/>\n",
    "</div>"
   ]
  },
  {
   "cell_type": "code",
   "execution_count": 175,
   "id": "be06a379-77f5-4593-b6c5-1e977fd03c4a",
   "metadata": {
    "tags": []
   },
   "outputs": [],
   "source": [
    "#!pip install geopandas\n",
    "#!pip install folium\n",
    "import pandas as pd\n",
    "import seaborn as sns\n",
    "import matplotlib.pyplot as plt\n",
    "import numpy as np\n",
    "import requests\n",
    "from IPython.display import Image\n"
   ]
  },
  {
   "cell_type": "markdown",
   "id": "2ac394b3-85ba-4de6-8b93-cea4bd106840",
   "metadata": {
    "tags": []
   },
   "source": [
    "#### Information on the data\n",
    "The target of our project is to minimize frequencies of railway accidents. <br>taken from [Kaggle]\n",
    "https://www.kaggle.com/datasets/jmolitoris/adoptable-dogs"
   ]
  },
  {
   "cell_type": "code",
   "execution_count": 176,
   "id": "679d9140-b3ea-4fcc-ac1c-3b94c0753c2e",
   "metadata": {
    "tags": []
   },
   "outputs": [
    {
     "data": {
      "text/plain": [
       "(2937, 19)"
      ]
     },
     "execution_count": 176,
     "metadata": {},
     "output_type": "execute_result"
    }
   ],
   "source": [
    "url = 'https://raw.githubusercontent.com/Lior1212avior/Adoptable---Dogs---Kaggel/main/ShelterDogs%20file.csv'\n",
    "Dogs_DF = pd.read_csv(url)\n",
    "Dogs_DF.shape"
   ]
  },
  {
   "cell_type": "code",
   "execution_count": 177,
   "id": "0c7d7982-d6e6-4a72-a357-a809eda5f716",
   "metadata": {
    "tags": []
   },
   "outputs": [
    {
     "data": {
      "text/plain": [
       "Index(['ID', 'name', 'age', 'sex', 'breed', 'date_found', 'adoptable_from',\n",
       "       'posted', 'color', 'coat', 'size', 'neutered', 'housebroken',\n",
       "       'likes_people', 'likes_children', 'get_along_males',\n",
       "       'get_along_females', 'get_along_cats', 'keep_in'],\n",
       "      dtype='object')"
      ]
     },
     "execution_count": 177,
     "metadata": {},
     "output_type": "execute_result"
    }
   ],
   "source": [
    "Dogs_DF.columns\n"
   ]
  },
  {
   "cell_type": "code",
   "execution_count": 178,
   "id": "ce99a238-d0a5-4af2-977a-c34f241b6426",
   "metadata": {
    "tags": []
   },
   "outputs": [
    {
     "data": {
      "text/html": [
       "<div>\n",
       "<style scoped>\n",
       "    .dataframe tbody tr th:only-of-type {\n",
       "        vertical-align: middle;\n",
       "    }\n",
       "\n",
       "    .dataframe tbody tr th {\n",
       "        vertical-align: top;\n",
       "    }\n",
       "\n",
       "    .dataframe thead th {\n",
       "        text-align: right;\n",
       "    }\n",
       "</style>\n",
       "<table border=\"1\" class=\"dataframe\">\n",
       "  <thead>\n",
       "    <tr style=\"text-align: right;\">\n",
       "      <th></th>\n",
       "      <th>ID</th>\n",
       "      <th>name</th>\n",
       "      <th>age</th>\n",
       "      <th>sex</th>\n",
       "      <th>breed</th>\n",
       "      <th>date_found</th>\n",
       "      <th>adoptable_from</th>\n",
       "      <th>posted</th>\n",
       "      <th>color</th>\n",
       "      <th>coat</th>\n",
       "      <th>size</th>\n",
       "      <th>neutered</th>\n",
       "      <th>housebroken</th>\n",
       "      <th>likes_people</th>\n",
       "      <th>likes_children</th>\n",
       "      <th>get_along_males</th>\n",
       "      <th>get_along_females</th>\n",
       "      <th>get_along_cats</th>\n",
       "      <th>keep_in</th>\n",
       "    </tr>\n",
       "  </thead>\n",
       "  <tbody>\n",
       "    <tr>\n",
       "      <th>0</th>\n",
       "      <td>23807</td>\n",
       "      <td>Gida</td>\n",
       "      <td>0.25</td>\n",
       "      <td>female</td>\n",
       "      <td>Unknown Mix</td>\n",
       "      <td>10/12/2019</td>\n",
       "      <td>11/12/2019</td>\n",
       "      <td>11/12/2019</td>\n",
       "      <td>red</td>\n",
       "      <td>short</td>\n",
       "      <td>small</td>\n",
       "      <td>no</td>\n",
       "      <td>NaN</td>\n",
       "      <td>NaN</td>\n",
       "      <td>NaN</td>\n",
       "      <td>NaN</td>\n",
       "      <td>NaN</td>\n",
       "      <td>NaN</td>\n",
       "      <td>NaN</td>\n",
       "    </tr>\n",
       "    <tr>\n",
       "      <th>1</th>\n",
       "      <td>533</td>\n",
       "      <td>Frida És Ricsi</td>\n",
       "      <td>0.17</td>\n",
       "      <td>female</td>\n",
       "      <td>Unknown Mix</td>\n",
       "      <td>01/12/2019</td>\n",
       "      <td>01/12/2019</td>\n",
       "      <td>09/12/2019</td>\n",
       "      <td>black and white</td>\n",
       "      <td>short</td>\n",
       "      <td>small</td>\n",
       "      <td>no</td>\n",
       "      <td>NaN</td>\n",
       "      <td>yes</td>\n",
       "      <td>yes</td>\n",
       "      <td>yes</td>\n",
       "      <td>yes</td>\n",
       "      <td>yes</td>\n",
       "      <td>NaN</td>\n",
       "    </tr>\n",
       "    <tr>\n",
       "      <th>2</th>\n",
       "      <td>23793</td>\n",
       "      <td>NaN</td>\n",
       "      <td>4.00</td>\n",
       "      <td>male</td>\n",
       "      <td>Unknown Mix</td>\n",
       "      <td>08/12/2019</td>\n",
       "      <td>23/12/2019</td>\n",
       "      <td>08/12/2019</td>\n",
       "      <td>saddle back</td>\n",
       "      <td>short</td>\n",
       "      <td>medium</td>\n",
       "      <td>no</td>\n",
       "      <td>NaN</td>\n",
       "      <td>NaN</td>\n",
       "      <td>NaN</td>\n",
       "      <td>NaN</td>\n",
       "      <td>NaN</td>\n",
       "      <td>NaN</td>\n",
       "      <td>NaN</td>\n",
       "    </tr>\n",
       "    <tr>\n",
       "      <th>3</th>\n",
       "      <td>23795</td>\n",
       "      <td>NaN</td>\n",
       "      <td>1.00</td>\n",
       "      <td>male</td>\n",
       "      <td>Unknown Mix</td>\n",
       "      <td>08/12/2019</td>\n",
       "      <td>23/12/2019</td>\n",
       "      <td>08/12/2019</td>\n",
       "      <td>yellow-brown</td>\n",
       "      <td>medium</td>\n",
       "      <td>medium</td>\n",
       "      <td>no</td>\n",
       "      <td>NaN</td>\n",
       "      <td>NaN</td>\n",
       "      <td>NaN</td>\n",
       "      <td>NaN</td>\n",
       "      <td>NaN</td>\n",
       "      <td>NaN</td>\n",
       "      <td>NaN</td>\n",
       "    </tr>\n",
       "    <tr>\n",
       "      <th>4</th>\n",
       "      <td>23806</td>\n",
       "      <td>Amy</td>\n",
       "      <td>2.00</td>\n",
       "      <td>female</td>\n",
       "      <td>French Bulldog Mix</td>\n",
       "      <td>10/12/2019</td>\n",
       "      <td>11/12/2019</td>\n",
       "      <td>11/12/2019</td>\n",
       "      <td>black</td>\n",
       "      <td>short</td>\n",
       "      <td>small</td>\n",
       "      <td>no</td>\n",
       "      <td>NaN</td>\n",
       "      <td>NaN</td>\n",
       "      <td>NaN</td>\n",
       "      <td>NaN</td>\n",
       "      <td>NaN</td>\n",
       "      <td>NaN</td>\n",
       "      <td>NaN</td>\n",
       "    </tr>\n",
       "    <tr>\n",
       "      <th>...</th>\n",
       "      <td>...</td>\n",
       "      <td>...</td>\n",
       "      <td>...</td>\n",
       "      <td>...</td>\n",
       "      <td>...</td>\n",
       "      <td>...</td>\n",
       "      <td>...</td>\n",
       "      <td>...</td>\n",
       "      <td>...</td>\n",
       "      <td>...</td>\n",
       "      <td>...</td>\n",
       "      <td>...</td>\n",
       "      <td>...</td>\n",
       "      <td>...</td>\n",
       "      <td>...</td>\n",
       "      <td>...</td>\n",
       "      <td>...</td>\n",
       "      <td>...</td>\n",
       "      <td>...</td>\n",
       "    </tr>\n",
       "    <tr>\n",
       "      <th>2932</th>\n",
       "      <td>118</td>\n",
       "      <td>Fodri</td>\n",
       "      <td>16.92</td>\n",
       "      <td>male</td>\n",
       "      <td>Unknown Mix</td>\n",
       "      <td>25/12/2003</td>\n",
       "      <td>25/12/2003</td>\n",
       "      <td>22/03/2006</td>\n",
       "      <td>yellow-brown</td>\n",
       "      <td>short</td>\n",
       "      <td>medium</td>\n",
       "      <td>no</td>\n",
       "      <td>no</td>\n",
       "      <td>yes</td>\n",
       "      <td>yes</td>\n",
       "      <td>no</td>\n",
       "      <td>yes</td>\n",
       "      <td>no</td>\n",
       "      <td>garden</td>\n",
       "    </tr>\n",
       "    <tr>\n",
       "      <th>2933</th>\n",
       "      <td>262</td>\n",
       "      <td>Csibi</td>\n",
       "      <td>17.33</td>\n",
       "      <td>female</td>\n",
       "      <td>Staffordshire Terrier Mix</td>\n",
       "      <td>27/08/2004</td>\n",
       "      <td>27/08/2004</td>\n",
       "      <td>08/07/2005</td>\n",
       "      <td>striped</td>\n",
       "      <td>short</td>\n",
       "      <td>large</td>\n",
       "      <td>yes</td>\n",
       "      <td>NaN</td>\n",
       "      <td>NaN</td>\n",
       "      <td>NaN</td>\n",
       "      <td>NaN</td>\n",
       "      <td>NaN</td>\n",
       "      <td>NaN</td>\n",
       "      <td>NaN</td>\n",
       "    </tr>\n",
       "    <tr>\n",
       "      <th>2934</th>\n",
       "      <td>4</td>\n",
       "      <td>Konrád</td>\n",
       "      <td>18.17</td>\n",
       "      <td>male</td>\n",
       "      <td>Unknown Mix</td>\n",
       "      <td>21/09/2005</td>\n",
       "      <td>21/09/2005</td>\n",
       "      <td>26/10/2005</td>\n",
       "      <td>black</td>\n",
       "      <td>short</td>\n",
       "      <td>medium</td>\n",
       "      <td>no</td>\n",
       "      <td>NaN</td>\n",
       "      <td>NaN</td>\n",
       "      <td>NaN</td>\n",
       "      <td>NaN</td>\n",
       "      <td>NaN</td>\n",
       "      <td>NaN</td>\n",
       "      <td>NaN</td>\n",
       "    </tr>\n",
       "    <tr>\n",
       "      <th>2935</th>\n",
       "      <td>141</td>\n",
       "      <td>Kölni</td>\n",
       "      <td>17.17</td>\n",
       "      <td>male</td>\n",
       "      <td>Unknown Mix</td>\n",
       "      <td>27/11/2004</td>\n",
       "      <td>27/11/2004</td>\n",
       "      <td>02/05/2005</td>\n",
       "      <td>black and brown</td>\n",
       "      <td>medium</td>\n",
       "      <td>medium</td>\n",
       "      <td>no</td>\n",
       "      <td>NaN</td>\n",
       "      <td>NaN</td>\n",
       "      <td>NaN</td>\n",
       "      <td>NaN</td>\n",
       "      <td>NaN</td>\n",
       "      <td>NaN</td>\n",
       "      <td>NaN</td>\n",
       "    </tr>\n",
       "    <tr>\n",
       "      <th>2936</th>\n",
       "      <td>248</td>\n",
       "      <td>Kedves</td>\n",
       "      <td>16.08</td>\n",
       "      <td>male</td>\n",
       "      <td>German Shepherd Dog, Hound Mix</td>\n",
       "      <td>02/04/2005</td>\n",
       "      <td>02/04/2005</td>\n",
       "      <td>30/06/2005</td>\n",
       "      <td>sable</td>\n",
       "      <td>short</td>\n",
       "      <td>medium</td>\n",
       "      <td>yes</td>\n",
       "      <td>NaN</td>\n",
       "      <td>yes</td>\n",
       "      <td>NaN</td>\n",
       "      <td>yes</td>\n",
       "      <td>yes</td>\n",
       "      <td>NaN</td>\n",
       "      <td>both flat and garden</td>\n",
       "    </tr>\n",
       "  </tbody>\n",
       "</table>\n",
       "<p>2937 rows × 19 columns</p>\n",
       "</div>"
      ],
      "text/plain": [
       "         ID            name    age     sex                           breed  \\\n",
       "0     23807            Gida   0.25  female                     Unknown Mix   \n",
       "1       533  Frida És Ricsi   0.17  female                     Unknown Mix   \n",
       "2     23793             NaN   4.00    male                     Unknown Mix   \n",
       "3     23795             NaN   1.00    male                     Unknown Mix   \n",
       "4     23806             Amy   2.00  female              French Bulldog Mix   \n",
       "...     ...             ...    ...     ...                             ...   \n",
       "2932    118           Fodri  16.92    male                     Unknown Mix   \n",
       "2933    262           Csibi  17.33  female       Staffordshire Terrier Mix   \n",
       "2934      4          Konrád  18.17    male                     Unknown Mix   \n",
       "2935    141           Kölni  17.17    male                     Unknown Mix   \n",
       "2936    248          Kedves  16.08    male  German Shepherd Dog, Hound Mix   \n",
       "\n",
       "      date_found adoptable_from      posted            color    coat    size  \\\n",
       "0     10/12/2019     11/12/2019  11/12/2019              red   short   small   \n",
       "1     01/12/2019     01/12/2019  09/12/2019  black and white   short   small   \n",
       "2     08/12/2019     23/12/2019  08/12/2019      saddle back   short  medium   \n",
       "3     08/12/2019     23/12/2019  08/12/2019     yellow-brown  medium  medium   \n",
       "4     10/12/2019     11/12/2019  11/12/2019            black   short   small   \n",
       "...          ...            ...         ...              ...     ...     ...   \n",
       "2932  25/12/2003     25/12/2003  22/03/2006     yellow-brown   short  medium   \n",
       "2933  27/08/2004     27/08/2004  08/07/2005          striped   short   large   \n",
       "2934  21/09/2005     21/09/2005  26/10/2005            black   short  medium   \n",
       "2935  27/11/2004     27/11/2004  02/05/2005  black and brown  medium  medium   \n",
       "2936  02/04/2005     02/04/2005  30/06/2005            sable   short  medium   \n",
       "\n",
       "     neutered housebroken likes_people likes_children get_along_males  \\\n",
       "0          no         NaN          NaN            NaN             NaN   \n",
       "1          no         NaN          yes            yes             yes   \n",
       "2          no         NaN          NaN            NaN             NaN   \n",
       "3          no         NaN          NaN            NaN             NaN   \n",
       "4          no         NaN          NaN            NaN             NaN   \n",
       "...       ...         ...          ...            ...             ...   \n",
       "2932       no          no          yes            yes              no   \n",
       "2933      yes         NaN          NaN            NaN             NaN   \n",
       "2934       no         NaN          NaN            NaN             NaN   \n",
       "2935       no         NaN          NaN            NaN             NaN   \n",
       "2936      yes         NaN          yes            NaN             yes   \n",
       "\n",
       "     get_along_females get_along_cats               keep_in  \n",
       "0                  NaN            NaN                   NaN  \n",
       "1                  yes            yes                   NaN  \n",
       "2                  NaN            NaN                   NaN  \n",
       "3                  NaN            NaN                   NaN  \n",
       "4                  NaN            NaN                   NaN  \n",
       "...                ...            ...                   ...  \n",
       "2932               yes             no                garden  \n",
       "2933               NaN            NaN                   NaN  \n",
       "2934               NaN            NaN                   NaN  \n",
       "2935               NaN            NaN                   NaN  \n",
       "2936               yes            NaN  both flat and garden  \n",
       "\n",
       "[2937 rows x 19 columns]"
      ]
     },
     "execution_count": 178,
     "metadata": {},
     "output_type": "execute_result"
    }
   ],
   "source": [
    "Dogs_DF"
   ]
  },
  {
   "cell_type": "markdown",
   "id": "56153cfc-b50d-438b-8c9f-9864f6858224",
   "metadata": {},
   "source": [
    "### 1. Wrangling data"
   ]
  },
  {
   "cell_type": "code",
   "execution_count": 179,
   "id": "8507cd16-59cb-4e5f-a3ed-406e16e9c288",
   "metadata": {
    "tags": []
   },
   "outputs": [
    {
     "data": {
      "text/plain": [
       "ID                      0\n",
       "name                   92\n",
       "age                     0\n",
       "sex                     0\n",
       "breed                   0\n",
       "date_found              0\n",
       "adoptable_from          0\n",
       "posted                  0\n",
       "color                   0\n",
       "coat                    0\n",
       "size                    0\n",
       "neutered             1085\n",
       "housebroken          2477\n",
       "likes_people          938\n",
       "likes_children       1718\n",
       "get_along_males      1304\n",
       "get_along_females    1264\n",
       "get_along_cats       2506\n",
       "keep_in              1021\n",
       "dtype: int64"
      ]
     },
     "execution_count": 179,
     "metadata": {},
     "output_type": "execute_result"
    }
   ],
   "source": [
    "Dogs_DF.isnull().sum()"
   ]
  },
  {
   "cell_type": "code",
   "execution_count": 180,
   "id": "98041057-9056-420b-beb5-81724d3a0f2d",
   "metadata": {
    "tags": []
   },
   "outputs": [
    {
     "data": {
      "text/plain": [
       "ID                     int64\n",
       "name                  object\n",
       "age                  float64\n",
       "sex                   object\n",
       "breed                 object\n",
       "date_found            object\n",
       "adoptable_from        object\n",
       "posted                object\n",
       "color                 object\n",
       "coat                  object\n",
       "size                  object\n",
       "neutered              object\n",
       "housebroken           object\n",
       "likes_people          object\n",
       "likes_children        object\n",
       "get_along_males       object\n",
       "get_along_females     object\n",
       "get_along_cats        object\n",
       "keep_in               object\n",
       "dtype: object"
      ]
     },
     "execution_count": 180,
     "metadata": {},
     "output_type": "execute_result"
    }
   ],
   "source": [
    "Dogs_DF['neutered'].fillna(0, inplace=True)\n",
    "Dogs_DF['likes_people'].fillna(0, inplace=True)\n",
    "Dogs_DF['likes_children'].fillna(0, inplace=True)\n",
    "Dogs_DF['get_along_males'].fillna('size', inplace=True)\n",
    "Dogs_DF['get_along_females'].fillna('size', inplace=True)\n",
    "\n",
    "Dogs_DF.dtypes\n"
   ]
  },
  {
   "cell_type": "code",
   "execution_count": null,
   "id": "af2464c7-67f5-4267-aba6-061e64b8f9ed",
   "metadata": {
    "tags": []
   },
   "outputs": [],
   "source": []
  },
  {
   "cell_type": "markdown",
   "id": "fe886491-41fe-41b2-ac4b-65b4019dd6d0",
   "metadata": {
    "tags": []
   },
   "source": [
    "# Med data\n",
    "#### Checking that these variables are within a reasonable range with Boxplot"
   ]
  },
  {
   "cell_type": "code",
   "execution_count": 181,
   "id": "38baac4b-846b-49f9-b956-ac79eb74dd94",
   "metadata": {
    "tags": []
   },
   "outputs": [
    {
     "data": {
      "image/png": "[encoded data removed]",
      "text/plain": [
       "<Figure size 1200x400 with 5 Axes>"
      ]
     },
     "metadata": {},
     "output_type": "display_data"
    }
   ],
   "source": [
    "columns_of_interest = [\"date_found\",\"adoptable_from\",\"posted\",\"age\",\"neutered\"]\n",
    "Reasonable_Range= Dogs_DF.filter(columns_of_interest).select_dtypes(include=np.number)\n",
    "\n",
    "# ציור תרשימי Box plot\n",
    "Reasonable_Range.plot(subplots=True, layout=(1, len(columns_of_interest)), kind='box', figsize=(12, 4), patch_artist=True)\n",
    "plt.subplots_adjust(wspace=0.5)\n",
    "plt.show()"
   ]
  },
  {
   "cell_type": "markdown",
   "id": "55b4a000-151a-432b-8507-f2df9a982fd7",
   "metadata": {},
   "source": [
    "#### The study area"
   ]
  },
  {
   "cell_type": "markdown",
   "id": "68083b9a-bf04-4388-82a5-ec3657b87d13",
   "metadata": {},
   "source": [
    "# לפי תרשים ה - BOX PLOT ניתן לראות שטווח לגיל אימוץ הכלבים הינו בין 6-11 שנים\n"
   ]
  },
  {
   "cell_type": "code",
   "execution_count": 182,
   "id": "a502fedb-e6eb-481b-b731-9330d796fe33",
   "metadata": {
    "tags": []
   },
   "outputs": [
    {
     "data": {
      "text/html": [
       "<div>\n",
       "<style scoped>\n",
       "    .dataframe tbody tr th:only-of-type {\n",
       "        vertical-align: middle;\n",
       "    }\n",
       "\n",
       "    .dataframe tbody tr th {\n",
       "        vertical-align: top;\n",
       "    }\n",
       "\n",
       "    .dataframe thead th {\n",
       "        text-align: right;\n",
       "    }\n",
       "</style>\n",
       "<table border=\"1\" class=\"dataframe\">\n",
       "  <thead>\n",
       "    <tr style=\"text-align: right;\">\n",
       "      <th></th>\n",
       "      <th>age</th>\n",
       "    </tr>\n",
       "    <tr>\n",
       "      <th>sex</th>\n",
       "      <th></th>\n",
       "    </tr>\n",
       "  </thead>\n",
       "  <tbody>\n",
       "    <tr>\n",
       "      <th>female</th>\n",
       "      <td>8.515573</td>\n",
       "    </tr>\n",
       "    <tr>\n",
       "      <th>male</th>\n",
       "      <td>8.609881</td>\n",
       "    </tr>\n",
       "  </tbody>\n",
       "</table>\n",
       "</div>"
      ],
      "text/plain": [
       "             age\n",
       "sex             \n",
       "female  8.515573\n",
       "male    8.609881"
      ]
     },
     "execution_count": 182,
     "metadata": {},
     "output_type": "execute_result"
    }
   ],
   "source": [
    "AVG_Dogs= Dogs_DF.groupby('sex')[['age']].mean()\n",
    "AVG_Dogs"
   ]
  },
  {
   "cell_type": "markdown",
   "id": "60e29b8d-4995-400b-80c2-cd3c940786ff",
   "metadata": {},
   "source": [
    "# לפי תרשים ה - BOX PLOT ניתן לראות שהממוצע לגיל אימוץ הכלבים הינו בין 8-8.6 שנים\n"
   ]
  },
  {
   "cell_type": "markdown",
   "id": "8f5f7751-7e71-4f64-9bff-bdaa8b9fadd4",
   "metadata": {},
   "source": [
    "### Analysis of types of grafs"
   ]
  },
  {
   "cell_type": "code",
   "execution_count": 183,
   "id": "830ba4d2-6988-4dff-9e2e-c0846e1a9c14",
   "metadata": {
    "tags": []
   },
   "outputs": [
    {
     "data": {
      "text/plain": [
       "(array([0, 1, 2]),\n",
       " [Text(0, 0, 'medium'), Text(1, 0, 'large'), Text(2, 0, 'small')])"
      ]
     },
     "execution_count": 183,
     "metadata": {},
     "output_type": "execute_result"
    },
    {
     "data": {
      "image/png": "[encoded data removed]",
      "text/plain": [
       "<Figure size 1200x800 with 1 Axes>"
      ]
     },
     "metadata": {},
     "output_type": "display_data"
    }
   ],
   "source": [
    "plt.figure(figsize=(12,8))\n",
    "plt.subplot(221) \n",
    "sns.countplot(x='size', data=Dogs_DF, order=Dogs_DF['size'].value_counts().index)\n",
    "plt.title('Dogs that like people')\n",
    "plt.xlabel('size')\n",
    "plt.ylabel('likes_people')\n",
    "plt.xticks(rotation=45)"
   ]
  },
  {
   "cell_type": "markdown",
   "id": "22ce8bbf-6680-40bc-8d93-3f0ae2da001e",
   "metadata": {
    "tags": []
   },
   "source": [
    "# תובנה ראשונה מהגרף המפולח לפי גודל הכלב ניתן לראות באופן חד ערכי שהגודל הממוצע הינו הכי אטרקטיבי לאימוץ בהונגריה"
   ]
  },
  {
   "cell_type": "code",
   "execution_count": 184,
   "id": "26e31c37-ca3a-41e5-bc94-152fc05672b7",
   "metadata": {
    "tags": []
   },
   "outputs": [
    {
     "data": {
      "text/plain": [
       "(array([0, 1]), [Text(0, 0, 'male'), Text(1, 0, 'female')])"
      ]
     },
     "execution_count": 184,
     "metadata": {},
     "output_type": "execute_result"
    },
    {
     "data": {
      "image/png": "[encoded data removed]",
      "text/plain": [
       "<Figure size 1200x800 with 1 Axes>"
      ]
     },
     "metadata": {},
     "output_type": "display_data"
    }
   ],
   "source": [
    "plt.figure(figsize=(12,8))\n",
    "plt.subplot(222)  \n",
    "sns.countplot(x='sex', data=Dogs_DF, order=Dogs_DF['sex'].value_counts().index)\n",
    "plt.title('Adopting by sex')\n",
    "plt.xlabel('Sex')\n",
    "plt.ylabel('QTY')\n",
    "plt.xticks(rotation=45)\n"
   ]
  },
  {
   "cell_type": "markdown",
   "id": "b940d306-3a31-404f-9f8e-3e8277c948ac",
   "metadata": {},
   "source": [
    "# תובנה לפי הגרף אנו רואים שכלבים זכרים מאומצים יותר מנקבות"
   ]
  },
  {
   "cell_type": "markdown",
   "id": "4f57ea49-c9c7-4634-8345-d0c14c211400",
   "metadata": {
    "tags": []
   },
   "source": [
    "plt.figure(figsize=(20, 20))\n",
    "\n",
    "\n",
    "plt.subplot(221)  \n",
    "sns.countplot(x='size', data=Dogs_DF, order=Dogs_DF['size'].value_counts().index)\n",
    "plt.title('Dogs that like people')\n",
    "plt.xlabel('size')\n",
    "plt.ylabel('likes_people')\n",
    "plt.xticks(rotation=45)\n",
    "\n",
    "plt.subplot(222)  \n",
    "sns.countplot(x='sex', data=Dogs_DF, order=Dogs_DF['sex'].value_counts().index)\n",
    "plt.title('Adopting by sex')\n",
    "plt.xlabel('Sex')\n",
    "plt.ylabel('QTY')\n",
    "plt.xticks(rotation=45)\n",
    "\n",
    "plt.subplot(223)  \n",
    "sns.countplot(x='neutered', data=Dogs_DF, order=Dogs_DF['neutered'].value_counts().index)\n",
    "plt.title('Adopting by neutered')\n",
    "plt.xlabel('neutered')\n",
    "plt.ylabel('QTY')\n",
    "plt.xticks(rotation=45)\n",
    "\n",
    "plt.subplot(224)  \n",
    "sns.countplot(x='color', data=Dogs_DF, order=Dogs_DF['color'].value_counts().index)\n",
    "plt.title('Adopting by Color')\n",
    "plt.xlabel('color')\n",
    "plt.ylabel('QTY')\n",
    "plt.xticks(rotation=45)\n",
    "\n",
    "\n",
    "plt.tight_layout()\n",
    "plt.show()"
   ]
  },
  {
   "cell_type": "code",
   "execution_count": 185,
   "id": "49481663-f003-4c6d-8096-9b6a76b2e75c",
   "metadata": {
    "tags": []
   },
   "outputs": [
    {
     "data": {
      "text/plain": [
       "(array([0, 1, 2]), [Text(0, 0, 'yes'), Text(1, 0, '0'), Text(2, 0, 'no')])"
      ]
     },
     "execution_count": 185,
     "metadata": {},
     "output_type": "execute_result"
    },
    {
     "data": {
      "image/png": "[encoded data removed]",
      "text/plain": [
       "<Figure size 1200x800 with 1 Axes>"
      ]
     },
     "metadata": {},
     "output_type": "display_data"
    }
   ],
   "source": [
    "plt.figure(figsize=(12,8))\n",
    "plt.subplot(223)  \n",
    "sns.countplot(x='neutered', data=Dogs_DF, order=Dogs_DF['neutered'].value_counts().index)\n",
    "plt.title('Adopting by neutered')\n",
    "plt.xlabel('neutered')\n",
    "plt.ylabel('QTY')\n",
    "plt.xticks(rotation=45)"
   ]
  },
  {
   "cell_type": "markdown",
   "id": "9d85bfac-44de-4f7b-8a5d-d799fe02a7a0",
   "metadata": {
    "tags": []
   },
   "source": [
    "# תובנה מהגרף המפולח כפי שחשבנו מהניתוח ניתן לראות שכלבים מסורסים אומצו יותר משלא מסורסים"
   ]
  },
  {
   "cell_type": "code",
   "execution_count": 186,
   "id": "316107ac-4169-42e5-8f74-2b29f71db203",
   "metadata": {
    "tags": []
   },
   "outputs": [
    {
     "data": {
      "text/plain": [
       "(array([ 0,  1,  2,  3,  4,  5,  6,  7,  8,  9, 10, 11, 12, 13, 14, 15, 16,\n",
       "        17, 18, 19, 20, 21, 22]),\n",
       " [Text(0, 0, 'black'),\n",
       "  Text(1, 0, 'brown'),\n",
       "  Text(2, 0, 'black and brown'),\n",
       "  Text(3, 0, 'yellow-brown'),\n",
       "  Text(4, 0, 'black and white'),\n",
       "  Text(5, 0, 'black and tan'),\n",
       "  Text(6, 0, 'apricot'),\n",
       "  Text(7, 0, 'brown and white'),\n",
       "  Text(8, 0, 'white'),\n",
       "  Text(9, 0, 'sable'),\n",
       "  Text(10, 0, 'tricolor'),\n",
       "  Text(11, 0, 'saddle back'),\n",
       "  Text(12, 0, 'striped'),\n",
       "  Text(13, 0, 'gray'),\n",
       "  Text(14, 0, 'yellow'),\n",
       "  Text(15, 0, 'golden'),\n",
       "  Text(16, 0, 'red'),\n",
       "  Text(17, 0, 'spotty'),\n",
       "  Text(18, 0, 'gray and white'),\n",
       "  Text(19, 0, 'gray and black'),\n",
       "  Text(20, 0, 'wild boar'),\n",
       "  Text(21, 0, 'red and white'),\n",
       "  Text(22, 0, 'dotted')])"
      ]
     },
     "execution_count": 186,
     "metadata": {},
     "output_type": "execute_result"
    },
    {
     "data": {
      "image/png": "[encoded data removed]",
      "text/plain": [
       "<Figure size 3000x800 with 1 Axes>"
      ]
     },
     "metadata": {},
     "output_type": "display_data"
    }
   ],
   "source": [
    "plt.figure(figsize=(30,8))\n",
    "plt.subplot(224)  \n",
    "sns.countplot(x='color', data=Dogs_DF, order=Dogs_DF['color'].value_counts().index)\n",
    "plt.title('Adopting by Color')\n",
    "plt.xlabel('color')\n",
    "plt.ylabel('QTY')\n",
    "plt.xticks(rotation=45)"
   ]
  },
  {
   "cell_type": "markdown",
   "id": "faedf43e-010c-4334-a527-637100640dc3",
   "metadata": {},
   "source": [
    "#    תובנה מהגרף המפולח לפי צבע הכלב הופתענו לראות כי הצבע הכי מבוקש לאימוץ הינו צבע שחור   "
   ]
  },
  {
   "cell_type": "code",
   "execution_count": 187,
   "id": "432fd76a-dc76-487d-a444-5fa5e238e17a",
   "metadata": {
    "tags": []
   },
   "outputs": [
    {
     "data": {
      "text/html": [
       "<div>\n",
       "<style scoped>\n",
       "    .dataframe tbody tr th:only-of-type {\n",
       "        vertical-align: middle;\n",
       "    }\n",
       "\n",
       "    .dataframe tbody tr th {\n",
       "        vertical-align: top;\n",
       "    }\n",
       "\n",
       "    .dataframe thead th {\n",
       "        text-align: right;\n",
       "    }\n",
       "</style>\n",
       "<table border=\"1\" class=\"dataframe\">\n",
       "  <thead>\n",
       "    <tr style=\"text-align: right;\">\n",
       "      <th></th>\n",
       "      <th>ID</th>\n",
       "      <th>name</th>\n",
       "      <th>age</th>\n",
       "      <th>sex</th>\n",
       "      <th>breed</th>\n",
       "      <th>date_found</th>\n",
       "      <th>adoptable_from</th>\n",
       "      <th>posted</th>\n",
       "      <th>color</th>\n",
       "      <th>coat</th>\n",
       "      <th>size</th>\n",
       "      <th>neutered</th>\n",
       "      <th>housebroken</th>\n",
       "      <th>likes_people</th>\n",
       "      <th>likes_children</th>\n",
       "      <th>get_along_males</th>\n",
       "      <th>get_along_females</th>\n",
       "      <th>get_along_cats</th>\n",
       "      <th>keep_in</th>\n",
       "    </tr>\n",
       "  </thead>\n",
       "  <tbody>\n",
       "    <tr>\n",
       "      <th>0</th>\n",
       "      <td>23807</td>\n",
       "      <td>Gida</td>\n",
       "      <td>0.25</td>\n",
       "      <td>female</td>\n",
       "      <td>Unknown Mix</td>\n",
       "      <td>10/12/2019</td>\n",
       "      <td>11/12/2019</td>\n",
       "      <td>11/12/2019</td>\n",
       "      <td>red</td>\n",
       "      <td>short</td>\n",
       "      <td>small</td>\n",
       "      <td>no</td>\n",
       "      <td>NaN</td>\n",
       "      <td>0</td>\n",
       "      <td>0</td>\n",
       "      <td>size</td>\n",
       "      <td>size</td>\n",
       "      <td>NaN</td>\n",
       "      <td>NaN</td>\n",
       "    </tr>\n",
       "    <tr>\n",
       "      <th>1</th>\n",
       "      <td>533</td>\n",
       "      <td>Frida És Ricsi</td>\n",
       "      <td>0.17</td>\n",
       "      <td>female</td>\n",
       "      <td>Unknown Mix</td>\n",
       "      <td>01/12/2019</td>\n",
       "      <td>01/12/2019</td>\n",
       "      <td>09/12/2019</td>\n",
       "      <td>black and white</td>\n",
       "      <td>short</td>\n",
       "      <td>small</td>\n",
       "      <td>no</td>\n",
       "      <td>NaN</td>\n",
       "      <td>yes</td>\n",
       "      <td>yes</td>\n",
       "      <td>yes</td>\n",
       "      <td>yes</td>\n",
       "      <td>yes</td>\n",
       "      <td>NaN</td>\n",
       "    </tr>\n",
       "    <tr>\n",
       "      <th>2</th>\n",
       "      <td>23793</td>\n",
       "      <td>NaN</td>\n",
       "      <td>4.00</td>\n",
       "      <td>male</td>\n",
       "      <td>Unknown Mix</td>\n",
       "      <td>08/12/2019</td>\n",
       "      <td>23/12/2019</td>\n",
       "      <td>08/12/2019</td>\n",
       "      <td>saddle back</td>\n",
       "      <td>short</td>\n",
       "      <td>medium</td>\n",
       "      <td>no</td>\n",
       "      <td>NaN</td>\n",
       "      <td>0</td>\n",
       "      <td>0</td>\n",
       "      <td>size</td>\n",
       "      <td>size</td>\n",
       "      <td>NaN</td>\n",
       "      <td>NaN</td>\n",
       "    </tr>\n",
       "    <tr>\n",
       "      <th>3</th>\n",
       "      <td>23795</td>\n",
       "      <td>NaN</td>\n",
       "      <td>1.00</td>\n",
       "      <td>male</td>\n",
       "      <td>Unknown Mix</td>\n",
       "      <td>08/12/2019</td>\n",
       "      <td>23/12/2019</td>\n",
       "      <td>08/12/2019</td>\n",
       "      <td>yellow-brown</td>\n",
       "      <td>medium</td>\n",
       "      <td>medium</td>\n",
       "      <td>no</td>\n",
       "      <td>NaN</td>\n",
       "      <td>0</td>\n",
       "      <td>0</td>\n",
       "      <td>size</td>\n",
       "      <td>size</td>\n",
       "      <td>NaN</td>\n",
       "      <td>NaN</td>\n",
       "    </tr>\n",
       "    <tr>\n",
       "      <th>4</th>\n",
       "      <td>23806</td>\n",
       "      <td>Amy</td>\n",
       "      <td>2.00</td>\n",
       "      <td>female</td>\n",
       "      <td>French Bulldog Mix</td>\n",
       "      <td>10/12/2019</td>\n",
       "      <td>11/12/2019</td>\n",
       "      <td>11/12/2019</td>\n",
       "      <td>black</td>\n",
       "      <td>short</td>\n",
       "      <td>small</td>\n",
       "      <td>no</td>\n",
       "      <td>NaN</td>\n",
       "      <td>0</td>\n",
       "      <td>0</td>\n",
       "      <td>size</td>\n",
       "      <td>size</td>\n",
       "      <td>NaN</td>\n",
       "      <td>NaN</td>\n",
       "    </tr>\n",
       "  </tbody>\n",
       "</table>\n",
       "</div>"
      ],
      "text/plain": [
       "      ID            name   age     sex               breed  date_found  \\\n",
       "0  23807            Gida  0.25  female         Unknown Mix  10/12/2019   \n",
       "1    533  Frida És Ricsi  0.17  female         Unknown Mix  01/12/2019   \n",
       "2  23793             NaN  4.00    male         Unknown Mix  08/12/2019   \n",
       "3  23795             NaN  1.00    male         Unknown Mix  08/12/2019   \n",
       "4  23806             Amy  2.00  female  French Bulldog Mix  10/12/2019   \n",
       "\n",
       "  adoptable_from      posted            color    coat    size neutered  \\\n",
       "0     11/12/2019  11/12/2019              red   short   small       no   \n",
       "1     01/12/2019  09/12/2019  black and white   short   small       no   \n",
       "2     23/12/2019  08/12/2019      saddle back   short  medium       no   \n",
       "3     23/12/2019  08/12/2019     yellow-brown  medium  medium       no   \n",
       "4     11/12/2019  11/12/2019            black   short   small       no   \n",
       "\n",
       "  housebroken likes_people likes_children get_along_males get_along_females  \\\n",
       "0         NaN            0              0            size              size   \n",
       "1         NaN          yes            yes             yes               yes   \n",
       "2         NaN            0              0            size              size   \n",
       "3         NaN            0              0            size              size   \n",
       "4         NaN            0              0            size              size   \n",
       "\n",
       "  get_along_cats keep_in  \n",
       "0            NaN     NaN  \n",
       "1            yes     NaN  \n",
       "2            NaN     NaN  \n",
       "3            NaN     NaN  \n",
       "4            NaN     NaN  "
      ]
     },
     "execution_count": 187,
     "metadata": {},
     "output_type": "execute_result"
    }
   ],
   "source": [
    "Dogs_DF.head()"
   ]
  },
  {
   "cell_type": "code",
   "execution_count": null,
   "id": "d870c308-6ea3-48cb-afcd-0fa1f74f1f32",
   "metadata": {},
   "outputs": [],
   "source": []
  },
  {
   "cell_type": "markdown",
   "id": "5e47a1ec-78e0-484e-95be-5b59185fe64a",
   "metadata": {},
   "source": [
    "#   הצגת קורלציות"
   ]
  },
  {
   "cell_type": "code",
   "execution_count": 188,
   "id": "5d4d4ed8-34a4-4c6b-a9c9-1c0999f16bdf",
   "metadata": {
    "tags": []
   },
   "outputs": [],
   "source": [
    "from datetime import datetime\n",
    "\n",
    "def days_between(d1, d2):\n",
    "    d1 = datetime.strptime(d1, \"%d/%m/%Y\")\n",
    "    d2 = datetime.strptime(d2, \"%d/%m/%Y\")\n",
    "    #return abs((d2 - d1).days)\n",
    "    return ((d2-d1).days)"
   ]
  },
  {
   "cell_type": "code",
   "execution_count": 189,
   "id": "9f09917e-3c72-4530-ae6d-78dbdac128aa",
   "metadata": {},
   "outputs": [],
   "source": [
    "Dogs_DF['duration_time'] = Dogs_DF.apply(lambda row: days_between(row['date_found'] , row['adoptable_from']), axis=1)"
   ]
  },
  {
   "cell_type": "code",
   "execution_count": 190,
   "id": "f75d6363-86c5-44d5-9ce9-6827172742f7",
   "metadata": {
    "tags": []
   },
   "outputs": [
    {
     "data": {
      "text/plain": [
       "ID                     int64\n",
       "name                  object\n",
       "age                  float64\n",
       "sex                   object\n",
       "breed                 object\n",
       "date_found            object\n",
       "adoptable_from        object\n",
       "posted                object\n",
       "color                 object\n",
       "coat                  object\n",
       "size                  object\n",
       "neutered              object\n",
       "housebroken           object\n",
       "likes_people          object\n",
       "likes_children        object\n",
       "get_along_males       object\n",
       "get_along_females     object\n",
       "get_along_cats        object\n",
       "keep_in               object\n",
       "duration_time          int64\n",
       "dtype: object"
      ]
     },
     "execution_count": 190,
     "metadata": {},
     "output_type": "execute_result"
    }
   ],
   "source": [
    "Dogs_DF.head()\n",
    "Dogs_DF.dtypes"
   ]
  },
  {
   "cell_type": "code",
   "execution_count": 191,
   "id": "6abf1dab",
   "metadata": {},
   "outputs": [
    {
     "data": {
      "text/html": [
       "<div>\n",
       "<style scoped>\n",
       "    .dataframe tbody tr th:only-of-type {\n",
       "        vertical-align: middle;\n",
       "    }\n",
       "\n",
       "    .dataframe tbody tr th {\n",
       "        vertical-align: top;\n",
       "    }\n",
       "\n",
       "    .dataframe thead th {\n",
       "        text-align: right;\n",
       "    }\n",
       "</style>\n",
       "<table border=\"1\" class=\"dataframe\">\n",
       "  <thead>\n",
       "    <tr style=\"text-align: right;\">\n",
       "      <th></th>\n",
       "      <th>ID</th>\n",
       "      <th>name</th>\n",
       "      <th>age</th>\n",
       "      <th>sex</th>\n",
       "      <th>breed</th>\n",
       "      <th>date_found</th>\n",
       "      <th>adoptable_from</th>\n",
       "      <th>posted</th>\n",
       "      <th>color</th>\n",
       "      <th>coat</th>\n",
       "      <th>...</th>\n",
       "      <th>housebroken</th>\n",
       "      <th>likes_people</th>\n",
       "      <th>likes_children</th>\n",
       "      <th>get_along_males</th>\n",
       "      <th>get_along_females</th>\n",
       "      <th>get_along_cats</th>\n",
       "      <th>keep_in</th>\n",
       "      <th>duration_time</th>\n",
       "      <th>date_found_year</th>\n",
       "      <th>adoptable_from_year</th>\n",
       "    </tr>\n",
       "  </thead>\n",
       "  <tbody>\n",
       "    <tr>\n",
       "      <th>0</th>\n",
       "      <td>23807</td>\n",
       "      <td>Gida</td>\n",
       "      <td>0.25</td>\n",
       "      <td>female</td>\n",
       "      <td>Unknown Mix</td>\n",
       "      <td>10/12/2019</td>\n",
       "      <td>11/12/2019</td>\n",
       "      <td>11/12/2019</td>\n",
       "      <td>red</td>\n",
       "      <td>short</td>\n",
       "      <td>...</td>\n",
       "      <td>NaN</td>\n",
       "      <td>0</td>\n",
       "      <td>0</td>\n",
       "      <td>size</td>\n",
       "      <td>size</td>\n",
       "      <td>NaN</td>\n",
       "      <td>NaN</td>\n",
       "      <td>1</td>\n",
       "      <td>2019</td>\n",
       "      <td>2019</td>\n",
       "    </tr>\n",
       "    <tr>\n",
       "      <th>1</th>\n",
       "      <td>533</td>\n",
       "      <td>Frida És Ricsi</td>\n",
       "      <td>0.17</td>\n",
       "      <td>female</td>\n",
       "      <td>Unknown Mix</td>\n",
       "      <td>01/12/2019</td>\n",
       "      <td>01/12/2019</td>\n",
       "      <td>09/12/2019</td>\n",
       "      <td>black and white</td>\n",
       "      <td>short</td>\n",
       "      <td>...</td>\n",
       "      <td>NaN</td>\n",
       "      <td>yes</td>\n",
       "      <td>yes</td>\n",
       "      <td>yes</td>\n",
       "      <td>yes</td>\n",
       "      <td>yes</td>\n",
       "      <td>NaN</td>\n",
       "      <td>0</td>\n",
       "      <td>2019</td>\n",
       "      <td>2019</td>\n",
       "    </tr>\n",
       "    <tr>\n",
       "      <th>2</th>\n",
       "      <td>23793</td>\n",
       "      <td>NaN</td>\n",
       "      <td>4.00</td>\n",
       "      <td>male</td>\n",
       "      <td>Unknown Mix</td>\n",
       "      <td>08/12/2019</td>\n",
       "      <td>23/12/2019</td>\n",
       "      <td>08/12/2019</td>\n",
       "      <td>saddle back</td>\n",
       "      <td>short</td>\n",
       "      <td>...</td>\n",
       "      <td>NaN</td>\n",
       "      <td>0</td>\n",
       "      <td>0</td>\n",
       "      <td>size</td>\n",
       "      <td>size</td>\n",
       "      <td>NaN</td>\n",
       "      <td>NaN</td>\n",
       "      <td>15</td>\n",
       "      <td>2019</td>\n",
       "      <td>2019</td>\n",
       "    </tr>\n",
       "    <tr>\n",
       "      <th>3</th>\n",
       "      <td>23795</td>\n",
       "      <td>NaN</td>\n",
       "      <td>1.00</td>\n",
       "      <td>male</td>\n",
       "      <td>Unknown Mix</td>\n",
       "      <td>08/12/2019</td>\n",
       "      <td>23/12/2019</td>\n",
       "      <td>08/12/2019</td>\n",
       "      <td>yellow-brown</td>\n",
       "      <td>medium</td>\n",
       "      <td>...</td>\n",
       "      <td>NaN</td>\n",
       "      <td>0</td>\n",
       "      <td>0</td>\n",
       "      <td>size</td>\n",
       "      <td>size</td>\n",
       "      <td>NaN</td>\n",
       "      <td>NaN</td>\n",
       "      <td>15</td>\n",
       "      <td>2019</td>\n",
       "      <td>2019</td>\n",
       "    </tr>\n",
       "    <tr>\n",
       "      <th>4</th>\n",
       "      <td>23806</td>\n",
       "      <td>Amy</td>\n",
       "      <td>2.00</td>\n",
       "      <td>female</td>\n",
       "      <td>French Bulldog Mix</td>\n",
       "      <td>10/12/2019</td>\n",
       "      <td>11/12/2019</td>\n",
       "      <td>11/12/2019</td>\n",
       "      <td>black</td>\n",
       "      <td>short</td>\n",
       "      <td>...</td>\n",
       "      <td>NaN</td>\n",
       "      <td>0</td>\n",
       "      <td>0</td>\n",
       "      <td>size</td>\n",
       "      <td>size</td>\n",
       "      <td>NaN</td>\n",
       "      <td>NaN</td>\n",
       "      <td>1</td>\n",
       "      <td>2019</td>\n",
       "      <td>2019</td>\n",
       "    </tr>\n",
       "  </tbody>\n",
       "</table>\n",
       "<p>5 rows × 22 columns</p>\n",
       "</div>"
      ],
      "text/plain": [
       "      ID            name   age     sex               breed  date_found  \\\n",
       "0  23807            Gida  0.25  female         Unknown Mix  10/12/2019   \n",
       "1    533  Frida És Ricsi  0.17  female         Unknown Mix  01/12/2019   \n",
       "2  23793             NaN  4.00    male         Unknown Mix  08/12/2019   \n",
       "3  23795             NaN  1.00    male         Unknown Mix  08/12/2019   \n",
       "4  23806             Amy  2.00  female  French Bulldog Mix  10/12/2019   \n",
       "\n",
       "  adoptable_from      posted            color    coat  ... housebroken  \\\n",
       "0     11/12/2019  11/12/2019              red   short  ...         NaN   \n",
       "1     01/12/2019  09/12/2019  black and white   short  ...         NaN   \n",
       "2     23/12/2019  08/12/2019      saddle back   short  ...         NaN   \n",
       "3     23/12/2019  08/12/2019     yellow-brown  medium  ...         NaN   \n",
       "4     11/12/2019  11/12/2019            black   short  ...         NaN   \n",
       "\n",
       "  likes_people likes_children get_along_males get_along_females  \\\n",
       "0            0              0            size              size   \n",
       "1          yes            yes             yes               yes   \n",
       "2            0              0            size              size   \n",
       "3            0              0            size              size   \n",
       "4            0              0            size              size   \n",
       "\n",
       "  get_along_cats keep_in duration_time date_found_year  adoptable_from_year  \n",
       "0            NaN     NaN             1            2019                 2019  \n",
       "1            yes     NaN             0            2019                 2019  \n",
       "2            NaN     NaN            15            2019                 2019  \n",
       "3            NaN     NaN            15            2019                 2019  \n",
       "4            NaN     NaN             1            2019                 2019  \n",
       "\n",
       "[5 rows x 22 columns]"
      ]
     },
     "execution_count": 191,
     "metadata": {},
     "output_type": "execute_result"
    }
   ],
   "source": [
    "Dogs_DF['date_found_year'] = pd.to_datetime(Dogs_DF['date_found'],format=\"%d/%m/%Y\").dt.year\n",
    "Dogs_DF['adoptable_from_year'] = pd.to_datetime(Dogs_DF['adoptable_from'],format=\"%d/%m/%Y\").dt.year\n",
    "Dogs_DF.head()"
   ]
  },
  {
   "cell_type": "code",
   "execution_count": 192,
   "id": "a4402d4d",
   "metadata": {},
   "outputs": [
    {
     "data": {
      "image/png": "[encoded data removed]",
      "text/plain": [
       "<Figure size 640x480 with 1 Axes>"
      ]
     },
     "metadata": {},
     "output_type": "display_data"
    }
   ],
   "source": [
    "sns.scatterplot(data=Dogs_DF, x='date_found_year', y='adoptable_from_year')\n",
    "plt.title('Coralation between date_found / adoptable_from')\n",
    "plt.show()"
   ]
  },
  {
   "cell_type": "markdown",
   "id": "3435ccad-89c6-460c-9821-9d20d6da2011",
   "metadata": {
    "tags": []
   },
   "source": [
    "# תובנה מהקורלציה הינה הפיזור הנ\"ל הוא בין תאריך מציאת הכלב לבין תאריך האימוץ כפי שרואים יש קשר חזק ולינארי בין שני המשתנים ולכן ניתן להסיק שבין מציאת הכלב לבין אימוצו פרק הזמן הינו קצר \n"
   ]
  },
  {
   "cell_type": "code",
   "execution_count": 193,
   "id": "65042e96-a55f-4e06-a935-80dd1b2eebcd",
   "metadata": {
    "tags": []
   },
   "outputs": [],
   "source": [
    "Dogs_DF['neutered'].replace({'yes': 1, 'no': 0},inplace=True)\n",
    "Dogs_DF['likes_people'].replace({'yes': 1, 'no': 0},inplace=True)"
   ]
  },
  {
   "cell_type": "code",
   "execution_count": 194,
   "id": "2be47202",
   "metadata": {},
   "outputs": [
    {
     "data": {
      "image/png": "[encoded data removed]",
      "text/plain": [
       "<Figure size 640x480 with 1 Axes>"
      ]
     },
     "metadata": {},
     "output_type": "display_data"
    }
   ],
   "source": [
    "sns.scatterplot(data=Dogs_DF, x='age', y='likes_people')\n",
    "plt.title('Coralation between age / likes_people')\n",
    "plt.show()"
   ]
  },
  {
   "cell_type": "markdown",
   "id": "4d7ab893-df53-4663-86ed-c73b79c64302",
   "metadata": {
    "tags": []
   },
   "source": [
    " # הפיזור הינו בין גיל הכלב לבין כמה הכלב אוהב אנשים ז\"א שאין קשר בין גיל הכלב לזה שנקשר לאנשים ביתר קלות "
   ]
  },
  {
   "cell_type": "markdown",
   "id": "cb081930-f82f-49f1-8198-3f621284818e",
   "metadata": {},
   "source": [
    "\n",
    "# חברים לסיכום ראינו הרבה תובנות ונתונים מניתוח האמוץ בהונגריה וכעת לעבודת האימוץ :"
   ]
  },
  {
   "cell_type": "markdown",
   "id": "158694fa-3874-400f-9fa0-bbfa4cc8f9ce",
   "metadata": {},
   "source": [
    " # [קישור לאתר האימוץ בהונגריה](http://www.allatok.info/search.php?language=en&species=kutya)"
   ]
  },
  {
   "cell_type": "markdown",
   "id": "e8ee4e93-e7e6-43e3-b99f-b0a34a75e4af",
   "metadata": {},
   "source": [
    " # חברים יקרים כפי שראיתם בהונגריה מקפידים על אימוץ כלבים כפי שראינו בסקטר פלוט של הקורלציה , אנו חושבים ומאמינים שצריך ואפילו חובה לדאוג לבעלי החיים ולאמצם , נכון להיום לפי המידע שמצאנו מומתים הרבה כלבים שנמצאים בהסגר תקופה ארוכה מאחר ולא ניתן לההחזיקם מבחינה כלכלית לא סתם אומרים כלב = כולו לב , לכן אם אתם רוצים ידיד נאמן זה הזמן לאמץ "
   ]
  },
  {
   "cell_type": "markdown",
   "id": "db3b986b-c5aa-4dfe-8133-974a46922739",
   "metadata": {
    "tags": []
   },
   "source": [
    "<a id='top'></a>\n",
    "\n",
    "<div>\n",
    "<img src=\"https://img.mako.co.il/2013/06/05/girl_dog_c.jpg\" width=\"800\"/>\n",
    "</div>"
   ]
  },
  {
   "cell_type": "code",
   "execution_count": null,
   "id": "d9399752-4c35-444a-9f96-b2275c983351",
   "metadata": {},
   "outputs": [],
   "source": []
  }
 ],
 "metadata": {
  "kernelspec": {
   "display_name": "Python 3 (ipykernel)",
   "language": "python",
   "name": "python3"
  },
  "language_info": {
   "codemirror_mode": {
    "name": "ipython",
    "version": 3
   },
   "file_extension": ".py",
   "mimetype": "text/x-python",
   "name": "python",
   "nbconvert_exporter": "python",
   "pygments_lexer": "ipython3",
   "version": "3.11.5"
  }
 },
 "nbformat": 4,
 "nbformat_minor": 5
}
